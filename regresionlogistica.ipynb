{
 "cells": [
  {
   "cell_type": "markdown",
   "id": "63226a9e-1983-414d-883b-56f35a93e943",
   "metadata": {},
   "source": [
    "###### cargar las librerias estructura de datos\n",
    "\n",
    "import pandas as pd\n",
    "import numpy as np\n",
    "import seaborn as sns\n",
    "import matplotlib.pyplot as plt"
   ]
  },
  {
   "cell_type": "code",
   "execution_count": 8,
   "id": "df3566dc-aca1-4746-851b-aeef1a2cbe18",
   "metadata": {},
   "outputs": [],
   "source": [
    "# cargar librerias para implementos modelos de ciencia de datos\n",
    "\n",
    "\n",
    "from sklearn import metrics\n",
    "from sklearn.model_selection import train_test_split\n",
    "from sklearn.linear_model import LogisticRegression\n",
    "from sklearn.metrics import classification_report, confusion_matrix"
   ]
  },
  {
   "cell_type": "code",
   "execution_count": 8,
   "id": "ab15b498-8896-45ca-bace-3a8d2ca6be1c",
   "metadata": {},
   "outputs": [],
   "source": [
    "import pandas as pd\n",
    "import matplotlib.pyplot as plt\n",
    "import seaborn as sns\n",
    "import numpy as np\n",
    "\n",
    "\n"
   ]
  },
  {
   "cell_type": "code",
   "execution_count": 14,
   "id": "409d042c-c2ea-4791-a126-ddf7f28986e9",
   "metadata": {},
   "outputs": [],
   "source": [
    "#lectura de datos\n",
    "\n",
    "Dataset= pd.read_csv('C:/Users/ctruj/OneDrive/Documentos/Universidad 2 semestre/Analisis de datos/Unidad 2/Dataset_heart_cleveland_1.csv')"
   ]
  },
  {
   "cell_type": "code",
   "execution_count": 4,
   "id": "62e95880-e4d8-42dd-bd9a-a1e40343b881",
   "metadata": {},
   "outputs": [
    {
     "data": {
      "text/html": [
       "<div>\n",
       "<style scoped>\n",
       "    .dataframe tbody tr th:only-of-type {\n",
       "        vertical-align: middle;\n",
       "    }\n",
       "\n",
       "    .dataframe tbody tr th {\n",
       "        vertical-align: top;\n",
       "    }\n",
       "\n",
       "    .dataframe thead th {\n",
       "        text-align: right;\n",
       "    }\n",
       "</style>\n",
       "<table border=\"1\" class=\"dataframe\">\n",
       "  <thead>\n",
       "    <tr style=\"text-align: right;\">\n",
       "      <th></th>\n",
       "      <th>age</th>\n",
       "      <th>sex</th>\n",
       "      <th>cp (chestpain)</th>\n",
       "      <th>trestbps (arterial.p)</th>\n",
       "      <th>cholesterol</th>\n",
       "      <th>fbs</th>\n",
       "      <th>restecg</th>\n",
       "      <th>maximum.rate</th>\n",
       "      <th>exang</th>\n",
       "      <th>oldpeak</th>\n",
       "      <th>slope</th>\n",
       "      <th>ca</th>\n",
       "      <th>thal</th>\n",
       "      <th>condition</th>\n",
       "    </tr>\n",
       "  </thead>\n",
       "  <tbody>\n",
       "    <tr>\n",
       "      <th>0</th>\n",
       "      <td>69</td>\n",
       "      <td>1</td>\n",
       "      <td>0</td>\n",
       "      <td>160</td>\n",
       "      <td>234</td>\n",
       "      <td>1</td>\n",
       "      <td>2</td>\n",
       "      <td>131</td>\n",
       "      <td>0</td>\n",
       "      <td>0.1</td>\n",
       "      <td>1</td>\n",
       "      <td>1</td>\n",
       "      <td>0</td>\n",
       "      <td>0</td>\n",
       "    </tr>\n",
       "    <tr>\n",
       "      <th>1</th>\n",
       "      <td>69</td>\n",
       "      <td>0</td>\n",
       "      <td>0</td>\n",
       "      <td>140</td>\n",
       "      <td>239</td>\n",
       "      <td>0</td>\n",
       "      <td>0</td>\n",
       "      <td>151</td>\n",
       "      <td>0</td>\n",
       "      <td>1.8</td>\n",
       "      <td>0</td>\n",
       "      <td>2</td>\n",
       "      <td>0</td>\n",
       "      <td>0</td>\n",
       "    </tr>\n",
       "    <tr>\n",
       "      <th>2</th>\n",
       "      <td>66</td>\n",
       "      <td>0</td>\n",
       "      <td>0</td>\n",
       "      <td>150</td>\n",
       "      <td>226</td>\n",
       "      <td>0</td>\n",
       "      <td>0</td>\n",
       "      <td>114</td>\n",
       "      <td>0</td>\n",
       "      <td>2.6</td>\n",
       "      <td>2</td>\n",
       "      <td>0</td>\n",
       "      <td>0</td>\n",
       "      <td>0</td>\n",
       "    </tr>\n",
       "    <tr>\n",
       "      <th>3</th>\n",
       "      <td>65</td>\n",
       "      <td>1</td>\n",
       "      <td>0</td>\n",
       "      <td>138</td>\n",
       "      <td>282</td>\n",
       "      <td>1</td>\n",
       "      <td>2</td>\n",
       "      <td>174</td>\n",
       "      <td>0</td>\n",
       "      <td>1.4</td>\n",
       "      <td>1</td>\n",
       "      <td>1</td>\n",
       "      <td>0</td>\n",
       "      <td>1</td>\n",
       "    </tr>\n",
       "    <tr>\n",
       "      <th>4</th>\n",
       "      <td>64</td>\n",
       "      <td>1</td>\n",
       "      <td>0</td>\n",
       "      <td>110</td>\n",
       "      <td>211</td>\n",
       "      <td>0</td>\n",
       "      <td>2</td>\n",
       "      <td>144</td>\n",
       "      <td>1</td>\n",
       "      <td>1.8</td>\n",
       "      <td>1</td>\n",
       "      <td>0</td>\n",
       "      <td>0</td>\n",
       "      <td>0</td>\n",
       "    </tr>\n",
       "    <tr>\n",
       "      <th>5</th>\n",
       "      <td>64</td>\n",
       "      <td>1</td>\n",
       "      <td>0</td>\n",
       "      <td>170</td>\n",
       "      <td>227</td>\n",
       "      <td>0</td>\n",
       "      <td>2</td>\n",
       "      <td>155</td>\n",
       "      <td>0</td>\n",
       "      <td>0.6</td>\n",
       "      <td>1</td>\n",
       "      <td>0</td>\n",
       "      <td>2</td>\n",
       "      <td>0</td>\n",
       "    </tr>\n",
       "    <tr>\n",
       "      <th>6</th>\n",
       "      <td>63</td>\n",
       "      <td>1</td>\n",
       "      <td>0</td>\n",
       "      <td>145</td>\n",
       "      <td>233</td>\n",
       "      <td>1</td>\n",
       "      <td>2</td>\n",
       "      <td>150</td>\n",
       "      <td>0</td>\n",
       "      <td>2.3</td>\n",
       "      <td>2</td>\n",
       "      <td>0</td>\n",
       "      <td>1</td>\n",
       "      <td>0</td>\n",
       "    </tr>\n",
       "    <tr>\n",
       "      <th>7</th>\n",
       "      <td>61</td>\n",
       "      <td>1</td>\n",
       "      <td>0</td>\n",
       "      <td>134</td>\n",
       "      <td>234</td>\n",
       "      <td>0</td>\n",
       "      <td>0</td>\n",
       "      <td>145</td>\n",
       "      <td>0</td>\n",
       "      <td>2.6</td>\n",
       "      <td>1</td>\n",
       "      <td>2</td>\n",
       "      <td>0</td>\n",
       "      <td>1</td>\n",
       "    </tr>\n",
       "    <tr>\n",
       "      <th>8</th>\n",
       "      <td>60</td>\n",
       "      <td>0</td>\n",
       "      <td>0</td>\n",
       "      <td>150</td>\n",
       "      <td>240</td>\n",
       "      <td>0</td>\n",
       "      <td>0</td>\n",
       "      <td>171</td>\n",
       "      <td>0</td>\n",
       "      <td>0.9</td>\n",
       "      <td>0</td>\n",
       "      <td>0</td>\n",
       "      <td>0</td>\n",
       "      <td>0</td>\n",
       "    </tr>\n",
       "    <tr>\n",
       "      <th>9</th>\n",
       "      <td>59</td>\n",
       "      <td>1</td>\n",
       "      <td>0</td>\n",
       "      <td>178</td>\n",
       "      <td>270</td>\n",
       "      <td>0</td>\n",
       "      <td>2</td>\n",
       "      <td>145</td>\n",
       "      <td>0</td>\n",
       "      <td>4.2</td>\n",
       "      <td>2</td>\n",
       "      <td>0</td>\n",
       "      <td>2</td>\n",
       "      <td>0</td>\n",
       "    </tr>\n",
       "    <tr>\n",
       "      <th>10</th>\n",
       "      <td>59</td>\n",
       "      <td>1</td>\n",
       "      <td>0</td>\n",
       "      <td>170</td>\n",
       "      <td>288</td>\n",
       "      <td>0</td>\n",
       "      <td>2</td>\n",
       "      <td>159</td>\n",
       "      <td>0</td>\n",
       "      <td>0.2</td>\n",
       "      <td>1</td>\n",
       "      <td>0</td>\n",
       "      <td>2</td>\n",
       "      <td>1</td>\n",
       "    </tr>\n",
       "    <tr>\n",
       "      <th>11</th>\n",
       "      <td>59</td>\n",
       "      <td>1</td>\n",
       "      <td>0</td>\n",
       "      <td>160</td>\n",
       "      <td>273</td>\n",
       "      <td>0</td>\n",
       "      <td>2</td>\n",
       "      <td>125</td>\n",
       "      <td>0</td>\n",
       "      <td>0.0</td>\n",
       "      <td>0</td>\n",
       "      <td>0</td>\n",
       "      <td>0</td>\n",
       "      <td>1</td>\n",
       "    </tr>\n",
       "    <tr>\n",
       "      <th>12</th>\n",
       "      <td>59</td>\n",
       "      <td>1</td>\n",
       "      <td>0</td>\n",
       "      <td>134</td>\n",
       "      <td>204</td>\n",
       "      <td>0</td>\n",
       "      <td>0</td>\n",
       "      <td>162</td>\n",
       "      <td>0</td>\n",
       "      <td>0.8</td>\n",
       "      <td>0</td>\n",
       "      <td>2</td>\n",
       "      <td>0</td>\n",
       "      <td>1</td>\n",
       "    </tr>\n",
       "    <tr>\n",
       "      <th>13</th>\n",
       "      <td>58</td>\n",
       "      <td>0</td>\n",
       "      <td>0</td>\n",
       "      <td>150</td>\n",
       "      <td>283</td>\n",
       "      <td>1</td>\n",
       "      <td>2</td>\n",
       "      <td>162</td>\n",
       "      <td>0</td>\n",
       "      <td>1.0</td>\n",
       "      <td>0</td>\n",
       "      <td>0</td>\n",
       "      <td>0</td>\n",
       "      <td>0</td>\n",
       "    </tr>\n",
       "    <tr>\n",
       "      <th>14</th>\n",
       "      <td>56</td>\n",
       "      <td>1</td>\n",
       "      <td>0</td>\n",
       "      <td>120</td>\n",
       "      <td>193</td>\n",
       "      <td>0</td>\n",
       "      <td>2</td>\n",
       "      <td>162</td>\n",
       "      <td>0</td>\n",
       "      <td>1.9</td>\n",
       "      <td>1</td>\n",
       "      <td>0</td>\n",
       "      <td>2</td>\n",
       "      <td>0</td>\n",
       "    </tr>\n",
       "    <tr>\n",
       "      <th>15</th>\n",
       "      <td>52</td>\n",
       "      <td>1</td>\n",
       "      <td>0</td>\n",
       "      <td>118</td>\n",
       "      <td>186</td>\n",
       "      <td>0</td>\n",
       "      <td>2</td>\n",
       "      <td>190</td>\n",
       "      <td>0</td>\n",
       "      <td>0.0</td>\n",
       "      <td>1</td>\n",
       "      <td>0</td>\n",
       "      <td>1</td>\n",
       "      <td>0</td>\n",
       "    </tr>\n",
       "    <tr>\n",
       "      <th>16</th>\n",
       "      <td>52</td>\n",
       "      <td>1</td>\n",
       "      <td>0</td>\n",
       "      <td>152</td>\n",
       "      <td>298</td>\n",
       "      <td>1</td>\n",
       "      <td>0</td>\n",
       "      <td>178</td>\n",
       "      <td>0</td>\n",
       "      <td>1.2</td>\n",
       "      <td>1</td>\n",
       "      <td>0</td>\n",
       "      <td>2</td>\n",
       "      <td>0</td>\n",
       "    </tr>\n",
       "    <tr>\n",
       "      <th>17</th>\n",
       "      <td>51</td>\n",
       "      <td>1</td>\n",
       "      <td>0</td>\n",
       "      <td>125</td>\n",
       "      <td>213</td>\n",
       "      <td>0</td>\n",
       "      <td>2</td>\n",
       "      <td>125</td>\n",
       "      <td>1</td>\n",
       "      <td>1.4</td>\n",
       "      <td>0</td>\n",
       "      <td>1</td>\n",
       "      <td>0</td>\n",
       "      <td>0</td>\n",
       "    </tr>\n",
       "    <tr>\n",
       "      <th>18</th>\n",
       "      <td>45</td>\n",
       "      <td>1</td>\n",
       "      <td>0</td>\n",
       "      <td>110</td>\n",
       "      <td>264</td>\n",
       "      <td>0</td>\n",
       "      <td>0</td>\n",
       "      <td>132</td>\n",
       "      <td>0</td>\n",
       "      <td>1.2</td>\n",
       "      <td>1</td>\n",
       "      <td>0</td>\n",
       "      <td>2</td>\n",
       "      <td>1</td>\n",
       "    </tr>\n",
       "    <tr>\n",
       "      <th>19</th>\n",
       "      <td>42</td>\n",
       "      <td>1</td>\n",
       "      <td>0</td>\n",
       "      <td>148</td>\n",
       "      <td>244</td>\n",
       "      <td>0</td>\n",
       "      <td>2</td>\n",
       "      <td>178</td>\n",
       "      <td>0</td>\n",
       "      <td>0.8</td>\n",
       "      <td>0</td>\n",
       "      <td>2</td>\n",
       "      <td>0</td>\n",
       "      <td>0</td>\n",
       "    </tr>\n",
       "    <tr>\n",
       "      <th>20</th>\n",
       "      <td>40</td>\n",
       "      <td>1</td>\n",
       "      <td>0</td>\n",
       "      <td>140</td>\n",
       "      <td>199</td>\n",
       "      <td>0</td>\n",
       "      <td>0</td>\n",
       "      <td>178</td>\n",
       "      <td>1</td>\n",
       "      <td>1.4</td>\n",
       "      <td>0</td>\n",
       "      <td>0</td>\n",
       "      <td>2</td>\n",
       "      <td>0</td>\n",
       "    </tr>\n",
       "    <tr>\n",
       "      <th>21</th>\n",
       "      <td>38</td>\n",
       "      <td>1</td>\n",
       "      <td>0</td>\n",
       "      <td>120</td>\n",
       "      <td>231</td>\n",
       "      <td>0</td>\n",
       "      <td>0</td>\n",
       "      <td>182</td>\n",
       "      <td>1</td>\n",
       "      <td>3.8</td>\n",
       "      <td>1</td>\n",
       "      <td>0</td>\n",
       "      <td>2</td>\n",
       "      <td>1</td>\n",
       "    </tr>\n",
       "    <tr>\n",
       "      <th>22</th>\n",
       "      <td>34</td>\n",
       "      <td>1</td>\n",
       "      <td>0</td>\n",
       "      <td>118</td>\n",
       "      <td>182</td>\n",
       "      <td>0</td>\n",
       "      <td>2</td>\n",
       "      <td>174</td>\n",
       "      <td>0</td>\n",
       "      <td>0.0</td>\n",
       "      <td>0</td>\n",
       "      <td>0</td>\n",
       "      <td>0</td>\n",
       "      <td>0</td>\n",
       "    </tr>\n",
       "    <tr>\n",
       "      <th>23</th>\n",
       "      <td>74</td>\n",
       "      <td>0</td>\n",
       "      <td>1</td>\n",
       "      <td>120</td>\n",
       "      <td>269</td>\n",
       "      <td>0</td>\n",
       "      <td>2</td>\n",
       "      <td>121</td>\n",
       "      <td>1</td>\n",
       "      <td>0.2</td>\n",
       "      <td>0</td>\n",
       "      <td>1</td>\n",
       "      <td>0</td>\n",
       "      <td>0</td>\n",
       "    </tr>\n",
       "    <tr>\n",
       "      <th>24</th>\n",
       "      <td>71</td>\n",
       "      <td>0</td>\n",
       "      <td>1</td>\n",
       "      <td>160</td>\n",
       "      <td>302</td>\n",
       "      <td>0</td>\n",
       "      <td>0</td>\n",
       "      <td>162</td>\n",
       "      <td>0</td>\n",
       "      <td>0.4</td>\n",
       "      <td>0</td>\n",
       "      <td>2</td>\n",
       "      <td>0</td>\n",
       "      <td>0</td>\n",
       "    </tr>\n",
       "    <tr>\n",
       "      <th>25</th>\n",
       "      <td>70</td>\n",
       "      <td>1</td>\n",
       "      <td>1</td>\n",
       "      <td>156</td>\n",
       "      <td>245</td>\n",
       "      <td>0</td>\n",
       "      <td>2</td>\n",
       "      <td>143</td>\n",
       "      <td>0</td>\n",
       "      <td>0.0</td>\n",
       "      <td>0</td>\n",
       "      <td>0</td>\n",
       "      <td>0</td>\n",
       "      <td>0</td>\n",
       "    </tr>\n",
       "    <tr>\n",
       "      <th>26</th>\n",
       "      <td>66</td>\n",
       "      <td>1</td>\n",
       "      <td>1</td>\n",
       "      <td>160</td>\n",
       "      <td>246</td>\n",
       "      <td>0</td>\n",
       "      <td>0</td>\n",
       "      <td>120</td>\n",
       "      <td>1</td>\n",
       "      <td>0.0</td>\n",
       "      <td>1</td>\n",
       "      <td>3</td>\n",
       "      <td>1</td>\n",
       "      <td>1</td>\n",
       "    </tr>\n",
       "    <tr>\n",
       "      <th>27</th>\n",
       "      <td>63</td>\n",
       "      <td>0</td>\n",
       "      <td>1</td>\n",
       "      <td>140</td>\n",
       "      <td>195</td>\n",
       "      <td>0</td>\n",
       "      <td>0</td>\n",
       "      <td>179</td>\n",
       "      <td>0</td>\n",
       "      <td>0.0</td>\n",
       "      <td>0</td>\n",
       "      <td>2</td>\n",
       "      <td>0</td>\n",
       "      <td>0</td>\n",
       "    </tr>\n",
       "    <tr>\n",
       "      <th>28</th>\n",
       "      <td>62</td>\n",
       "      <td>1</td>\n",
       "      <td>1</td>\n",
       "      <td>120</td>\n",
       "      <td>281</td>\n",
       "      <td>0</td>\n",
       "      <td>2</td>\n",
       "      <td>103</td>\n",
       "      <td>0</td>\n",
       "      <td>1.4</td>\n",
       "      <td>1</td>\n",
       "      <td>1</td>\n",
       "      <td>2</td>\n",
       "      <td>1</td>\n",
       "    </tr>\n",
       "    <tr>\n",
       "      <th>29</th>\n",
       "      <td>62</td>\n",
       "      <td>1</td>\n",
       "      <td>1</td>\n",
       "      <td>128</td>\n",
       "      <td>208</td>\n",
       "      <td>1</td>\n",
       "      <td>2</td>\n",
       "      <td>140</td>\n",
       "      <td>0</td>\n",
       "      <td>0.0</td>\n",
       "      <td>0</td>\n",
       "      <td>0</td>\n",
       "      <td>0</td>\n",
       "      <td>0</td>\n",
       "    </tr>\n",
       "    <tr>\n",
       "      <th>30</th>\n",
       "      <td>59</td>\n",
       "      <td>1</td>\n",
       "      <td>1</td>\n",
       "      <td>140</td>\n",
       "      <td>221</td>\n",
       "      <td>0</td>\n",
       "      <td>0</td>\n",
       "      <td>164</td>\n",
       "      <td>1</td>\n",
       "      <td>0.0</td>\n",
       "      <td>0</td>\n",
       "      <td>0</td>\n",
       "      <td>0</td>\n",
       "      <td>0</td>\n",
       "    </tr>\n",
       "    <tr>\n",
       "      <th>31</th>\n",
       "      <td>58</td>\n",
       "      <td>1</td>\n",
       "      <td>1</td>\n",
       "      <td>120</td>\n",
       "      <td>284</td>\n",
       "      <td>0</td>\n",
       "      <td>2</td>\n",
       "      <td>160</td>\n",
       "      <td>0</td>\n",
       "      <td>1.8</td>\n",
       "      <td>1</td>\n",
       "      <td>0</td>\n",
       "      <td>0</td>\n",
       "      <td>1</td>\n",
       "    </tr>\n",
       "    <tr>\n",
       "      <th>32</th>\n",
       "      <td>58</td>\n",
       "      <td>0</td>\n",
       "      <td>1</td>\n",
       "      <td>136</td>\n",
       "      <td>319</td>\n",
       "      <td>1</td>\n",
       "      <td>2</td>\n",
       "      <td>152</td>\n",
       "      <td>0</td>\n",
       "      <td>0.0</td>\n",
       "      <td>0</td>\n",
       "      <td>2</td>\n",
       "      <td>0</td>\n",
       "      <td>1</td>\n",
       "    </tr>\n",
       "    <tr>\n",
       "      <th>33</th>\n",
       "      <td>57</td>\n",
       "      <td>0</td>\n",
       "      <td>1</td>\n",
       "      <td>130</td>\n",
       "      <td>236</td>\n",
       "      <td>0</td>\n",
       "      <td>2</td>\n",
       "      <td>174</td>\n",
       "      <td>0</td>\n",
       "      <td>0.0</td>\n",
       "      <td>1</td>\n",
       "      <td>1</td>\n",
       "      <td>0</td>\n",
       "      <td>1</td>\n",
       "    </tr>\n",
       "    <tr>\n",
       "      <th>34</th>\n",
       "      <td>57</td>\n",
       "      <td>1</td>\n",
       "      <td>1</td>\n",
       "      <td>124</td>\n",
       "      <td>261</td>\n",
       "      <td>0</td>\n",
       "      <td>0</td>\n",
       "      <td>141</td>\n",
       "      <td>0</td>\n",
       "      <td>0.3</td>\n",
       "      <td>0</td>\n",
       "      <td>0</td>\n",
       "      <td>2</td>\n",
       "      <td>1</td>\n",
       "    </tr>\n",
       "    <tr>\n",
       "      <th>35</th>\n",
       "      <td>57</td>\n",
       "      <td>1</td>\n",
       "      <td>1</td>\n",
       "      <td>154</td>\n",
       "      <td>232</td>\n",
       "      <td>0</td>\n",
       "      <td>2</td>\n",
       "      <td>164</td>\n",
       "      <td>0</td>\n",
       "      <td>0.0</td>\n",
       "      <td>0</td>\n",
       "      <td>1</td>\n",
       "      <td>0</td>\n",
       "      <td>1</td>\n",
       "    </tr>\n",
       "    <tr>\n",
       "      <th>36</th>\n",
       "      <td>56</td>\n",
       "      <td>1</td>\n",
       "      <td>1</td>\n",
       "      <td>120</td>\n",
       "      <td>240</td>\n",
       "      <td>0</td>\n",
       "      <td>0</td>\n",
       "      <td>169</td>\n",
       "      <td>0</td>\n",
       "      <td>0.0</td>\n",
       "      <td>2</td>\n",
       "      <td>0</td>\n",
       "      <td>0</td>\n",
       "      <td>0</td>\n",
       "    </tr>\n",
       "    <tr>\n",
       "      <th>37</th>\n",
       "      <td>56</td>\n",
       "      <td>0</td>\n",
       "      <td>1</td>\n",
       "      <td>140</td>\n",
       "      <td>294</td>\n",
       "      <td>0</td>\n",
       "      <td>2</td>\n",
       "      <td>153</td>\n",
       "      <td>0</td>\n",
       "      <td>1.3</td>\n",
       "      <td>1</td>\n",
       "      <td>0</td>\n",
       "      <td>0</td>\n",
       "      <td>0</td>\n",
       "    </tr>\n",
       "    <tr>\n",
       "      <th>38</th>\n",
       "      <td>56</td>\n",
       "      <td>1</td>\n",
       "      <td>1</td>\n",
       "      <td>120</td>\n",
       "      <td>236</td>\n",
       "      <td>0</td>\n",
       "      <td>0</td>\n",
       "      <td>178</td>\n",
       "      <td>0</td>\n",
       "      <td>0.8</td>\n",
       "      <td>0</td>\n",
       "      <td>0</td>\n",
       "      <td>0</td>\n",
       "      <td>0</td>\n",
       "    </tr>\n",
       "    <tr>\n",
       "      <th>39</th>\n",
       "      <td>56</td>\n",
       "      <td>1</td>\n",
       "      <td>1</td>\n",
       "      <td>130</td>\n",
       "      <td>221</td>\n",
       "      <td>0</td>\n",
       "      <td>2</td>\n",
       "      <td>163</td>\n",
       "      <td>0</td>\n",
       "      <td>0.0</td>\n",
       "      <td>0</td>\n",
       "      <td>0</td>\n",
       "      <td>2</td>\n",
       "      <td>0</td>\n",
       "    </tr>\n",
       "    <tr>\n",
       "      <th>40</th>\n",
       "      <td>55</td>\n",
       "      <td>0</td>\n",
       "      <td>1</td>\n",
       "      <td>135</td>\n",
       "      <td>250</td>\n",
       "      <td>0</td>\n",
       "      <td>2</td>\n",
       "      <td>161</td>\n",
       "      <td>0</td>\n",
       "      <td>1.4</td>\n",
       "      <td>1</td>\n",
       "      <td>0</td>\n",
       "      <td>0</td>\n",
       "      <td>0</td>\n",
       "    </tr>\n",
       "    <tr>\n",
       "      <th>41</th>\n",
       "      <td>55</td>\n",
       "      <td>1</td>\n",
       "      <td>1</td>\n",
       "      <td>130</td>\n",
       "      <td>262</td>\n",
       "      <td>0</td>\n",
       "      <td>0</td>\n",
       "      <td>155</td>\n",
       "      <td>0</td>\n",
       "      <td>0.0</td>\n",
       "      <td>0</td>\n",
       "      <td>0</td>\n",
       "      <td>0</td>\n",
       "      <td>0</td>\n",
       "    </tr>\n",
       "    <tr>\n",
       "      <th>42</th>\n",
       "      <td>55</td>\n",
       "      <td>0</td>\n",
       "      <td>1</td>\n",
       "      <td>132</td>\n",
       "      <td>342</td>\n",
       "      <td>0</td>\n",
       "      <td>0</td>\n",
       "      <td>166</td>\n",
       "      <td>0</td>\n",
       "      <td>1.2</td>\n",
       "      <td>0</td>\n",
       "      <td>0</td>\n",
       "      <td>0</td>\n",
       "      <td>0</td>\n",
       "    </tr>\n",
       "    <tr>\n",
       "      <th>43</th>\n",
       "      <td>54</td>\n",
       "      <td>1</td>\n",
       "      <td>1</td>\n",
       "      <td>108</td>\n",
       "      <td>309</td>\n",
       "      <td>0</td>\n",
       "      <td>0</td>\n",
       "      <td>156</td>\n",
       "      <td>0</td>\n",
       "      <td>0.0</td>\n",
       "      <td>0</td>\n",
       "      <td>0</td>\n",
       "      <td>2</td>\n",
       "      <td>0</td>\n",
       "    </tr>\n",
       "    <tr>\n",
       "      <th>44</th>\n",
       "      <td>54</td>\n",
       "      <td>0</td>\n",
       "      <td>1</td>\n",
       "      <td>132</td>\n",
       "      <td>288</td>\n",
       "      <td>1</td>\n",
       "      <td>2</td>\n",
       "      <td>159</td>\n",
       "      <td>1</td>\n",
       "      <td>0.0</td>\n",
       "      <td>0</td>\n",
       "      <td>1</td>\n",
       "      <td>0</td>\n",
       "      <td>0</td>\n",
       "    </tr>\n",
       "    <tr>\n",
       "      <th>45</th>\n",
       "      <td>54</td>\n",
       "      <td>1</td>\n",
       "      <td>1</td>\n",
       "      <td>192</td>\n",
       "      <td>283</td>\n",
       "      <td>0</td>\n",
       "      <td>2</td>\n",
       "      <td>195</td>\n",
       "      <td>0</td>\n",
       "      <td>0.0</td>\n",
       "      <td>0</td>\n",
       "      <td>1</td>\n",
       "      <td>2</td>\n",
       "      <td>1</td>\n",
       "    </tr>\n",
       "    <tr>\n",
       "      <th>46</th>\n",
       "      <td>52</td>\n",
       "      <td>1</td>\n",
       "      <td>1</td>\n",
       "      <td>120</td>\n",
       "      <td>325</td>\n",
       "      <td>0</td>\n",
       "      <td>0</td>\n",
       "      <td>172</td>\n",
       "      <td>0</td>\n",
       "      <td>0.2</td>\n",
       "      <td>0</td>\n",
       "      <td>0</td>\n",
       "      <td>0</td>\n",
       "      <td>0</td>\n",
       "    </tr>\n",
       "    <tr>\n",
       "      <th>47</th>\n",
       "      <td>52</td>\n",
       "      <td>1</td>\n",
       "      <td>1</td>\n",
       "      <td>134</td>\n",
       "      <td>201</td>\n",
       "      <td>0</td>\n",
       "      <td>0</td>\n",
       "      <td>158</td>\n",
       "      <td>0</td>\n",
       "      <td>0.8</td>\n",
       "      <td>0</td>\n",
       "      <td>1</td>\n",
       "      <td>0</td>\n",
       "      <td>0</td>\n",
       "    </tr>\n",
       "    <tr>\n",
       "      <th>48</th>\n",
       "      <td>52</td>\n",
       "      <td>1</td>\n",
       "      <td>1</td>\n",
       "      <td>128</td>\n",
       "      <td>205</td>\n",
       "      <td>1</td>\n",
       "      <td>0</td>\n",
       "      <td>184</td>\n",
       "      <td>0</td>\n",
       "      <td>0.0</td>\n",
       "      <td>0</td>\n",
       "      <td>0</td>\n",
       "      <td>0</td>\n",
       "      <td>0</td>\n",
       "    </tr>\n",
       "    <tr>\n",
       "      <th>49</th>\n",
       "      <td>50</td>\n",
       "      <td>0</td>\n",
       "      <td>1</td>\n",
       "      <td>120</td>\n",
       "      <td>244</td>\n",
       "      <td>0</td>\n",
       "      <td>0</td>\n",
       "      <td>162</td>\n",
       "      <td>0</td>\n",
       "      <td>1.1</td>\n",
       "      <td>0</td>\n",
       "      <td>0</td>\n",
       "      <td>0</td>\n",
       "      <td>0</td>\n",
       "    </tr>\n",
       "  </tbody>\n",
       "</table>\n",
       "</div>"
      ],
      "text/plain": [
       "    age  sex  cp (chestpain)  trestbps (arterial.p)  cholesterol  fbs  \\\n",
       "0    69    1               0                    160          234    1   \n",
       "1    69    0               0                    140          239    0   \n",
       "2    66    0               0                    150          226    0   \n",
       "3    65    1               0                    138          282    1   \n",
       "4    64    1               0                    110          211    0   \n",
       "5    64    1               0                    170          227    0   \n",
       "6    63    1               0                    145          233    1   \n",
       "7    61    1               0                    134          234    0   \n",
       "8    60    0               0                    150          240    0   \n",
       "9    59    1               0                    178          270    0   \n",
       "10   59    1               0                    170          288    0   \n",
       "11   59    1               0                    160          273    0   \n",
       "12   59    1               0                    134          204    0   \n",
       "13   58    0               0                    150          283    1   \n",
       "14   56    1               0                    120          193    0   \n",
       "15   52    1               0                    118          186    0   \n",
       "16   52    1               0                    152          298    1   \n",
       "17   51    1               0                    125          213    0   \n",
       "18   45    1               0                    110          264    0   \n",
       "19   42    1               0                    148          244    0   \n",
       "20   40    1               0                    140          199    0   \n",
       "21   38    1               0                    120          231    0   \n",
       "22   34    1               0                    118          182    0   \n",
       "23   74    0               1                    120          269    0   \n",
       "24   71    0               1                    160          302    0   \n",
       "25   70    1               1                    156          245    0   \n",
       "26   66    1               1                    160          246    0   \n",
       "27   63    0               1                    140          195    0   \n",
       "28   62    1               1                    120          281    0   \n",
       "29   62    1               1                    128          208    1   \n",
       "30   59    1               1                    140          221    0   \n",
       "31   58    1               1                    120          284    0   \n",
       "32   58    0               1                    136          319    1   \n",
       "33   57    0               1                    130          236    0   \n",
       "34   57    1               1                    124          261    0   \n",
       "35   57    1               1                    154          232    0   \n",
       "36   56    1               1                    120          240    0   \n",
       "37   56    0               1                    140          294    0   \n",
       "38   56    1               1                    120          236    0   \n",
       "39   56    1               1                    130          221    0   \n",
       "40   55    0               1                    135          250    0   \n",
       "41   55    1               1                    130          262    0   \n",
       "42   55    0               1                    132          342    0   \n",
       "43   54    1               1                    108          309    0   \n",
       "44   54    0               1                    132          288    1   \n",
       "45   54    1               1                    192          283    0   \n",
       "46   52    1               1                    120          325    0   \n",
       "47   52    1               1                    134          201    0   \n",
       "48   52    1               1                    128          205    1   \n",
       "49   50    0               1                    120          244    0   \n",
       "\n",
       "    restecg  maximum.rate  exang  oldpeak  slope  ca  thal  condition  \n",
       "0         2           131      0      0.1      1   1     0          0  \n",
       "1         0           151      0      1.8      0   2     0          0  \n",
       "2         0           114      0      2.6      2   0     0          0  \n",
       "3         2           174      0      1.4      1   1     0          1  \n",
       "4         2           144      1      1.8      1   0     0          0  \n",
       "5         2           155      0      0.6      1   0     2          0  \n",
       "6         2           150      0      2.3      2   0     1          0  \n",
       "7         0           145      0      2.6      1   2     0          1  \n",
       "8         0           171      0      0.9      0   0     0          0  \n",
       "9         2           145      0      4.2      2   0     2          0  \n",
       "10        2           159      0      0.2      1   0     2          1  \n",
       "11        2           125      0      0.0      0   0     0          1  \n",
       "12        0           162      0      0.8      0   2     0          1  \n",
       "13        2           162      0      1.0      0   0     0          0  \n",
       "14        2           162      0      1.9      1   0     2          0  \n",
       "15        2           190      0      0.0      1   0     1          0  \n",
       "16        0           178      0      1.2      1   0     2          0  \n",
       "17        2           125      1      1.4      0   1     0          0  \n",
       "18        0           132      0      1.2      1   0     2          1  \n",
       "19        2           178      0      0.8      0   2     0          0  \n",
       "20        0           178      1      1.4      0   0     2          0  \n",
       "21        0           182      1      3.8      1   0     2          1  \n",
       "22        2           174      0      0.0      0   0     0          0  \n",
       "23        2           121      1      0.2      0   1     0          0  \n",
       "24        0           162      0      0.4      0   2     0          0  \n",
       "25        2           143      0      0.0      0   0     0          0  \n",
       "26        0           120      1      0.0      1   3     1          1  \n",
       "27        0           179      0      0.0      0   2     0          0  \n",
       "28        2           103      0      1.4      1   1     2          1  \n",
       "29        2           140      0      0.0      0   0     0          0  \n",
       "30        0           164      1      0.0      0   0     0          0  \n",
       "31        2           160      0      1.8      1   0     0          1  \n",
       "32        2           152      0      0.0      0   2     0          1  \n",
       "33        2           174      0      0.0      1   1     0          1  \n",
       "34        0           141      0      0.3      0   0     2          1  \n",
       "35        2           164      0      0.0      0   1     0          1  \n",
       "36        0           169      0      0.0      2   0     0          0  \n",
       "37        2           153      0      1.3      1   0     0          0  \n",
       "38        0           178      0      0.8      0   0     0          0  \n",
       "39        2           163      0      0.0      0   0     2          0  \n",
       "40        2           161      0      1.4      1   0     0          0  \n",
       "41        0           155      0      0.0      0   0     0          0  \n",
       "42        0           166      0      1.2      0   0     0          0  \n",
       "43        0           156      0      0.0      0   0     2          0  \n",
       "44        2           159      1      0.0      0   1     0          0  \n",
       "45        2           195      0      0.0      0   1     2          1  \n",
       "46        0           172      0      0.2      0   0     0          0  \n",
       "47        0           158      0      0.8      0   1     0          0  \n",
       "48        0           184      0      0.0      0   0     0          0  \n",
       "49        0           162      0      1.1      0   0     0          0  "
      ]
     },
     "execution_count": 4,
     "metadata": {},
     "output_type": "execute_result"
    }
   ],
   "source": [
    "Dataset.head(50)"
   ]
  },
  {
   "cell_type": "code",
   "execution_count": 17,
   "id": "2fe8935c-4fe3-49bf-9af7-fb0f3a412542",
   "metadata": {},
   "outputs": [
    {
     "data": {
      "text/plain": [
       "Text(0.5, 1.0, 'identificación de Datos faltantes y atípicos')"
      ]
     },
     "execution_count": 17,
     "metadata": {},
     "output_type": "execute_result"
    },
    {
     "data": {
      "image/png": "[encoded data removed]",
      "text/plain": [
       "<Figure size 600x300 with 1 Axes>"
      ]
     },
     "metadata": {},
     "output_type": "display_data"
    }
   ],
   "source": [
    "# Descripción de los datos\n",
    "Dataset.describe()\n",
    "\n",
    "#Indentificación de datos faltantes y atípicos\n",
    "\n",
    "plt.figure(figsize=(6, 3))\n",
    "sns.boxplot(x=Dataset['cp (chestpain)'])\n",
    "plt.title('identificación de Datos faltantes y atípicos', fontsize=12)"
   ]
  },
  {
   "cell_type": "code",
   "execution_count": 19,
   "id": "299f04fd-5cb9-480e-8ffa-5cd105f53217",
   "metadata": {},
   "outputs": [
    {
     "data": {
      "text/plain": [
       "Text(0.5, 1.0, 'identificación de Datos faltantes y atípicos')"
      ]
     },
     "execution_count": 19,
     "metadata": {},
     "output_type": "execute_result"
    },
    {
     "data": {
      "image/png": "[encoded data removed]",
      "text/plain": [
       "<Figure size 600x300 with 1 Axes>"
      ]
     },
     "metadata": {},
     "output_type": "display_data"
    }
   ],
   "source": [
    "# Descripción de los datos\n",
    "Dataset.describe()\n",
    "\n",
    "#Indentificación de datos faltantes y atípicos\n",
    "\n",
    "plt.figure(figsize=(6, 3))\n",
    "sns.boxplot(x=Dataset['trestbps (arterial.p)'])\n",
    "plt.title('identificación de Datos faltantes y atípicos', fontsize=12)"
   ]
  },
  {
   "cell_type": "code",
   "execution_count": 20,
   "id": "54e845ce-0b77-4fd5-8491-d2faa19d1264",
   "metadata": {},
   "outputs": [
    {
     "data": {
      "text/plain": [
       "Text(0.5, 1.0, 'identificación de Datos faltantes y atípicos')"
      ]
     },
     "execution_count": 20,
     "metadata": {},
     "output_type": "execute_result"
    },
    {
     "data": {
      "image/png": "[encoded data removed]",
      "text/plain": [
       "<Figure size 600x300 with 1 Axes>"
      ]
     },
     "metadata": {},
     "output_type": "display_data"
    }
   ],
   "source": [
    "# Descripción de los datos\n",
    "Dataset.describe()\n",
    "\n",
    "#Indentificación de datos faltantes y atípicos\n",
    "\n",
    "plt.figure(figsize=(6, 3))\n",
    "sns.boxplot(x=Dataset['cholesterol'])\n",
    "plt.title('identificación de Datos faltantes y atípicos', fontsize=12)"
   ]
  },
  {
   "cell_type": "code",
   "execution_count": 20,
   "id": "a92068aa-8c41-4862-bd3f-e79533092f4f",
   "metadata": {},
   "outputs": [
    {
     "data": {
      "text/plain": [
       "Text(0.5, 1.0, 'identificación de Datos faltantes y atípicos')"
      ]
     },
     "execution_count": 20,
     "metadata": {},
     "output_type": "execute_result"
    },
    {
     "data": {
      "image/png": "[encoded data removed]",
      "text/plain": [
       "<Figure size 600x300 with 1 Axes>"
      ]
     },
     "metadata": {},
     "output_type": "display_data"
    }
   ],
   "source": [
    "# Descripción de los datos\n",
    "Dataset.describe()\n",
    "\n",
    "#Indentificación de datos faltantes y atípicos\n",
    "\n",
    "plt.figure(figsize=(6, 3))\n",
    "sns.boxplot(x=Dataset['cholesterol'])\n",
    "plt.title('identificación de Datos faltantes y atípicos', fontsize=12)"
   ]
  },
  {
   "cell_type": "code",
   "execution_count": 21,
   "id": "9f2f7dc3-3066-455f-b467-4b30a3b2aeab",
   "metadata": {},
   "outputs": [
    {
     "data": {
      "text/plain": [
       "Text(0.5, 1.0, 'identificación de Datos faltantes y atípicos')"
      ]
     },
     "execution_count": 21,
     "metadata": {},
     "output_type": "execute_result"
    },
    {
     "data": {
      "image/png": "[encoded data removed]",
      "text/plain": [
       "<Figure size 600x300 with 1 Axes>"
      ]
     },
     "metadata": {},
     "output_type": "display_data"
    }
   ],
   "source": [
    "# Descripción de los datos\n",
    "Dataset.describe()\n",
    "\n",
    "#Indentificación de datos faltantes y atípicos\n",
    "\n",
    "plt.figure(figsize=(6, 3))\n",
    "sns.boxplot(x=Dataset['fbs'])\n",
    "plt.title('identificación de Datos faltantes y atípicos', fontsize=12)"
   ]
  },
  {
   "cell_type": "code",
   "execution_count": 22,
   "id": "52e7d62b-81df-4850-8756-e18ec06aeb3f",
   "metadata": {},
   "outputs": [
    {
     "data": {
      "text/plain": [
       "Text(0.5, 1.0, 'identificación de Datos faltantes y atípicos')"
      ]
     },
     "execution_count": 22,
     "metadata": {},
     "output_type": "execute_result"
    },
    {
     "data": {
      "image/png": "[encoded data removed]",
      "text/plain": [
       "<Figure size 600x300 with 1 Axes>"
      ]
     },
     "metadata": {},
     "output_type": "display_data"
    }
   ],
   "source": [
    "# Descripción de los datos\n",
    "Dataset.describe()\n",
    "\n",
    "#Indentificación de datos faltantes y atípicos\n",
    "\n",
    "plt.figure(figsize=(6, 3))\n",
    "sns.boxplot(x=Dataset['restecg'])\n",
    "plt.title('identificación de Datos faltantes y atípicos', fontsize=12)\t"
   ]
  },
  {
   "cell_type": "code",
   "execution_count": 23,
   "id": "407751f7-15ae-4bb8-8cf2-2ef69f4f97d2",
   "metadata": {},
   "outputs": [
    {
     "data": {
      "text/plain": [
       "Text(0.5, 1.0, 'identificación de Datos faltantes y atípicos')"
      ]
     },
     "execution_count": 23,
     "metadata": {},
     "output_type": "execute_result"
    },
    {
     "data": {
      "image/png": "[encoded data removed]",
      "text/plain": [
       "<Figure size 600x300 with 1 Axes>"
      ]
     },
     "metadata": {},
     "output_type": "display_data"
    }
   ],
   "source": [
    "# Descripción de los datos\n",
    "Dataset.describe()\n",
    "\n",
    "#Indentificación de datos faltantes y atípicos\n",
    "\n",
    "plt.figure(figsize=(6, 3))\n",
    "sns.boxplot(x=Dataset['maximum.rate'])\n",
    "plt.title('identificación de Datos faltantes y atípicos', fontsize=12)"
   ]
  },
  {
   "cell_type": "code",
   "execution_count": 24,
   "id": "2974726a-3595-4f4f-ac7c-19053bfc889b",
   "metadata": {},
   "outputs": [
    {
     "data": {
      "text/plain": [
       "Text(0.5, 1.0, 'identificación de Datos faltantes y atípicos')"
      ]
     },
     "execution_count": 24,
     "metadata": {},
     "output_type": "execute_result"
    },
    {
     "data": {
      "image/png": "[encoded data removed]",
      "text/plain": [
       "<Figure size 600x300 with 1 Axes>"
      ]
     },
     "metadata": {},
     "output_type": "display_data"
    }
   ],
   "source": [
    "# Descripción de los datos\n",
    "Dataset.describe()\n",
    "\n",
    "#Indentificación de datos faltantes y atípicos\n",
    "\n",
    "plt.figure(figsize=(6, 3))\n",
    "sns.boxplot(x=Dataset['exang'])\n",
    "plt.title('identificación de Datos faltantes y atípicos', fontsize=12)"
   ]
  },
  {
   "cell_type": "code",
   "execution_count": 25,
   "id": "2b29f40b-b681-48c7-9281-f20d4dd085c5",
   "metadata": {},
   "outputs": [
    {
     "data": {
      "text/plain": [
       "Text(0.5, 1.0, 'identificación de Datos faltantes y atípicos')"
      ]
     },
     "execution_count": 25,
     "metadata": {},
     "output_type": "execute_result"
    },
    {
     "data": {
      "image/png": "[encoded data removed]",
      "text/plain": [
       "<Figure size 600x300 with 1 Axes>"
      ]
     },
     "metadata": {},
     "output_type": "display_data"
    }
   ],
   "source": [
    "# Descripción de los datos\n",
    "Dataset.describe()\n",
    "\n",
    "#Indentificación de datos faltantes y atípicos\n",
    "\n",
    "plt.figure(figsize=(6, 3))\n",
    "sns.boxplot(x=Dataset['oldpeak'])\n",
    "plt.title('identificación de Datos faltantes y atípicos', fontsize=12)"
   ]
  },
  {
   "cell_type": "code",
   "execution_count": 26,
   "id": "8629681f-cd26-4b2a-92f1-291ce7fde9d9",
   "metadata": {},
   "outputs": [
    {
     "data": {
      "text/plain": [
       "Text(0.5, 1.0, 'identificación de Datos faltantes y atípicos')"
      ]
     },
     "execution_count": 26,
     "metadata": {},
     "output_type": "execute_result"
    },
    {
     "data": {
      "image/png": "[encoded data removed]",
      "text/plain": [
       "<Figure size 600x300 with 1 Axes>"
      ]
     },
     "metadata": {},
     "output_type": "display_data"
    }
   ],
   "source": [
    "# Descripción de los datos\n",
    "Dataset.describe()\n",
    "\n",
    "#Indentificación de datos faltantes y atípicos\n",
    "\n",
    "plt.figure(figsize=(6, 3))\n",
    "sns.boxplot(x=Dataset['slope'])\n",
    "plt.title('identificación de Datos faltantes y atípicos', fontsize=12)"
   ]
  },
  {
   "cell_type": "code",
   "execution_count": 27,
   "id": "96ba50da-5bdf-428c-89b8-47258ef311d3",
   "metadata": {},
   "outputs": [
    {
     "data": {
      "text/plain": [
       "Text(0.5, 1.0, 'identificación de Datos faltantes y atípicos')"
      ]
     },
     "execution_count": 27,
     "metadata": {},
     "output_type": "execute_result"
    },
    {
     "data": {
      "image/png": "[encoded data removed]",
      "text/plain": [
       "<Figure size 600x300 with 1 Axes>"
      ]
     },
     "metadata": {},
     "output_type": "display_data"
    }
   ],
   "source": [
    "# Descripción de los datos\n",
    "Dataset.describe()\n",
    "\n",
    "#Indentificación de datos faltantes y atípicos\n",
    "\n",
    "plt.figure(figsize=(6, 3))\n",
    "sns.boxplot(x=Dataset['ca'])\n",
    "plt.title('identificación de Datos faltantes y atípicos', fontsize=12)"
   ]
  },
  {
   "cell_type": "code",
   "execution_count": 28,
   "id": "30294fbc-7094-4379-96cd-a6081ffb44aa",
   "metadata": {},
   "outputs": [
    {
     "data": {
      "text/plain": [
       "Text(0.5, 1.0, 'identificación de Datos faltantes y atípicos')"
      ]
     },
     "execution_count": 28,
     "metadata": {},
     "output_type": "execute_result"
    },
    {
     "data": {
      "image/png": "[encoded data removed]",
      "text/plain": [
       "<Figure size 600x300 with 1 Axes>"
      ]
     },
     "metadata": {},
     "output_type": "display_data"
    }
   ],
   "source": [
    "# Descripción de los datos\n",
    "Dataset.describe()\n",
    "\n",
    "#Indentificación de datos faltantes y atípicos\n",
    "\n",
    "plt.figure(figsize=(6, 3))\n",
    "sns.boxplot(x=Dataset['thal'])\n",
    "plt.title('identificación de Datos faltantes y atípicos', fontsize=12)"
   ]
  },
  {
   "cell_type": "code",
   "execution_count": 6,
   "id": "d7572a9e-19c4-4793-b912-9c41f46d1217",
   "metadata": {},
   "outputs": [
    {
     "data": {
      "text/html": [
       "<div>\n",
       "<style scoped>\n",
       "    .dataframe tbody tr th:only-of-type {\n",
       "        vertical-align: middle;\n",
       "    }\n",
       "\n",
       "    .dataframe tbody tr th {\n",
       "        vertical-align: top;\n",
       "    }\n",
       "\n",
       "    .dataframe thead th {\n",
       "        text-align: right;\n",
       "    }\n",
       "</style>\n",
       "<table border=\"1\" class=\"dataframe\">\n",
       "  <thead>\n",
       "    <tr style=\"text-align: right;\">\n",
       "      <th></th>\n",
       "      <th>age</th>\n",
       "      <th>sex</th>\n",
       "      <th>cp (chestpain)</th>\n",
       "      <th>trestbps (arterial.p)</th>\n",
       "      <th>cholesterol</th>\n",
       "      <th>fbs</th>\n",
       "      <th>restecg</th>\n",
       "      <th>maximum.rate</th>\n",
       "      <th>exang</th>\n",
       "      <th>oldpeak</th>\n",
       "      <th>slope</th>\n",
       "      <th>ca</th>\n",
       "      <th>thal</th>\n",
       "      <th>condition</th>\n",
       "    </tr>\n",
       "  </thead>\n",
       "  <tbody>\n",
       "    <tr>\n",
       "      <th>count</th>\n",
       "      <td>297.000000</td>\n",
       "      <td>297.000000</td>\n",
       "      <td>297.000000</td>\n",
       "      <td>297.000000</td>\n",
       "      <td>297.000000</td>\n",
       "      <td>297.000000</td>\n",
       "      <td>297.000000</td>\n",
       "      <td>297.000000</td>\n",
       "      <td>297.000000</td>\n",
       "      <td>297.000000</td>\n",
       "      <td>297.000000</td>\n",
       "      <td>297.000000</td>\n",
       "      <td>297.000000</td>\n",
       "      <td>297.000000</td>\n",
       "    </tr>\n",
       "    <tr>\n",
       "      <th>mean</th>\n",
       "      <td>54.542088</td>\n",
       "      <td>0.676768</td>\n",
       "      <td>2.158249</td>\n",
       "      <td>131.693603</td>\n",
       "      <td>247.350168</td>\n",
       "      <td>0.144781</td>\n",
       "      <td>0.996633</td>\n",
       "      <td>149.599327</td>\n",
       "      <td>0.326599</td>\n",
       "      <td>1.055556</td>\n",
       "      <td>0.602694</td>\n",
       "      <td>0.676768</td>\n",
       "      <td>0.835017</td>\n",
       "      <td>0.461279</td>\n",
       "    </tr>\n",
       "    <tr>\n",
       "      <th>std</th>\n",
       "      <td>9.049736</td>\n",
       "      <td>0.468500</td>\n",
       "      <td>0.964859</td>\n",
       "      <td>17.762806</td>\n",
       "      <td>51.997583</td>\n",
       "      <td>0.352474</td>\n",
       "      <td>0.994914</td>\n",
       "      <td>22.941562</td>\n",
       "      <td>0.469761</td>\n",
       "      <td>1.166123</td>\n",
       "      <td>0.618187</td>\n",
       "      <td>0.938965</td>\n",
       "      <td>0.956690</td>\n",
       "      <td>0.499340</td>\n",
       "    </tr>\n",
       "    <tr>\n",
       "      <th>min</th>\n",
       "      <td>29.000000</td>\n",
       "      <td>0.000000</td>\n",
       "      <td>0.000000</td>\n",
       "      <td>94.000000</td>\n",
       "      <td>126.000000</td>\n",
       "      <td>0.000000</td>\n",
       "      <td>0.000000</td>\n",
       "      <td>71.000000</td>\n",
       "      <td>0.000000</td>\n",
       "      <td>0.000000</td>\n",
       "      <td>0.000000</td>\n",
       "      <td>0.000000</td>\n",
       "      <td>0.000000</td>\n",
       "      <td>0.000000</td>\n",
       "    </tr>\n",
       "    <tr>\n",
       "      <th>25%</th>\n",
       "      <td>48.000000</td>\n",
       "      <td>0.000000</td>\n",
       "      <td>2.000000</td>\n",
       "      <td>120.000000</td>\n",
       "      <td>211.000000</td>\n",
       "      <td>0.000000</td>\n",
       "      <td>0.000000</td>\n",
       "      <td>133.000000</td>\n",
       "      <td>0.000000</td>\n",
       "      <td>0.000000</td>\n",
       "      <td>0.000000</td>\n",
       "      <td>0.000000</td>\n",
       "      <td>0.000000</td>\n",
       "      <td>0.000000</td>\n",
       "    </tr>\n",
       "    <tr>\n",
       "      <th>50%</th>\n",
       "      <td>56.000000</td>\n",
       "      <td>1.000000</td>\n",
       "      <td>2.000000</td>\n",
       "      <td>130.000000</td>\n",
       "      <td>243.000000</td>\n",
       "      <td>0.000000</td>\n",
       "      <td>1.000000</td>\n",
       "      <td>153.000000</td>\n",
       "      <td>0.000000</td>\n",
       "      <td>0.800000</td>\n",
       "      <td>1.000000</td>\n",
       "      <td>0.000000</td>\n",
       "      <td>0.000000</td>\n",
       "      <td>0.000000</td>\n",
       "    </tr>\n",
       "    <tr>\n",
       "      <th>75%</th>\n",
       "      <td>61.000000</td>\n",
       "      <td>1.000000</td>\n",
       "      <td>3.000000</td>\n",
       "      <td>140.000000</td>\n",
       "      <td>276.000000</td>\n",
       "      <td>0.000000</td>\n",
       "      <td>2.000000</td>\n",
       "      <td>166.000000</td>\n",
       "      <td>1.000000</td>\n",
       "      <td>1.600000</td>\n",
       "      <td>1.000000</td>\n",
       "      <td>1.000000</td>\n",
       "      <td>2.000000</td>\n",
       "      <td>1.000000</td>\n",
       "    </tr>\n",
       "    <tr>\n",
       "      <th>max</th>\n",
       "      <td>77.000000</td>\n",
       "      <td>1.000000</td>\n",
       "      <td>3.000000</td>\n",
       "      <td>200.000000</td>\n",
       "      <td>564.000000</td>\n",
       "      <td>1.000000</td>\n",
       "      <td>2.000000</td>\n",
       "      <td>202.000000</td>\n",
       "      <td>1.000000</td>\n",
       "      <td>6.200000</td>\n",
       "      <td>2.000000</td>\n",
       "      <td>3.000000</td>\n",
       "      <td>2.000000</td>\n",
       "      <td>1.000000</td>\n",
       "    </tr>\n",
       "  </tbody>\n",
       "</table>\n",
       "</div>"
      ],
      "text/plain": [
       "              age         sex  cp (chestpain)  trestbps (arterial.p)  \\\n",
       "count  297.000000  297.000000      297.000000             297.000000   \n",
       "mean    54.542088    0.676768        2.158249             131.693603   \n",
       "std      9.049736    0.468500        0.964859              17.762806   \n",
       "min     29.000000    0.000000        0.000000              94.000000   \n",
       "25%     48.000000    0.000000        2.000000             120.000000   \n",
       "50%     56.000000    1.000000        2.000000             130.000000   \n",
       "75%     61.000000    1.000000        3.000000             140.000000   \n",
       "max     77.000000    1.000000        3.000000             200.000000   \n",
       "\n",
       "       cholesterol         fbs     restecg  maximum.rate       exang  \\\n",
       "count   297.000000  297.000000  297.000000    297.000000  297.000000   \n",
       "mean    247.350168    0.144781    0.996633    149.599327    0.326599   \n",
       "std      51.997583    0.352474    0.994914     22.941562    0.469761   \n",
       "min     126.000000    0.000000    0.000000     71.000000    0.000000   \n",
       "25%     211.000000    0.000000    0.000000    133.000000    0.000000   \n",
       "50%     243.000000    0.000000    1.000000    153.000000    0.000000   \n",
       "75%     276.000000    0.000000    2.000000    166.000000    1.000000   \n",
       "max     564.000000    1.000000    2.000000    202.000000    1.000000   \n",
       "\n",
       "          oldpeak       slope          ca        thal   condition  \n",
       "count  297.000000  297.000000  297.000000  297.000000  297.000000  \n",
       "mean     1.055556    0.602694    0.676768    0.835017    0.461279  \n",
       "std      1.166123    0.618187    0.938965    0.956690    0.499340  \n",
       "min      0.000000    0.000000    0.000000    0.000000    0.000000  \n",
       "25%      0.000000    0.000000    0.000000    0.000000    0.000000  \n",
       "50%      0.800000    1.000000    0.000000    0.000000    0.000000  \n",
       "75%      1.600000    1.000000    1.000000    2.000000    1.000000  \n",
       "max      6.200000    2.000000    3.000000    2.000000    1.000000  "
      ]
     },
     "execution_count": 6,
     "metadata": {},
     "output_type": "execute_result"
    }
   ],
   "source": [
    "# Descripción de los datos\n",
    "Dataset.describe()"
   ]
  },
  {
   "cell_type": "code",
   "execution_count": 7,
   "id": "1772ae6f-aa5e-427e-a333-d9eb8e90b2b5",
   "metadata": {},
   "outputs": [
    {
     "name": "stdout",
     "output_type": "stream",
     "text": [
      "el total de datos Atípicos es 0\n"
     ]
    }
   ],
   "source": [
    "#conteo de datos atípicos edades entre 1_99\n",
    "\n",
    "nivel_minímo=1\n",
    "nivel_maximo=99\n",
    "Total_Atípicos=((Dataset['age']<nivel_minímo)|(Dataset['age']>nivel_maximo)).sum()\n",
    "print(\"el total de datos Atípicos es {}\".format(Total_Atípicos))"
   ]
  },
  {
   "cell_type": "code",
   "execution_count": 8,
   "id": "ce5fc6a2-869c-404a-b841-52f1df746819",
   "metadata": {},
   "outputs": [
    {
     "name": "stdout",
     "output_type": "stream",
     "text": [
      "el total de datos Atípicos es 23\n"
     ]
    }
   ],
   "source": [
    "#conteo de datos atípicos dolor toracico 1normal 2atípico 3no angioso 4asintomatico\n",
    "\n",
    "nivel_minímo=1\n",
    "nivel_maximo=4\n",
    "Total_Atípicos=((Dataset['cp (chestpain)']<nivel_minímo)|(Dataset['cp (chestpain)']>nivel_maximo)).sum()\n",
    "print(\"el total de datos Atípicos es {}\".format(Total_Atípicos))"
   ]
  },
  {
   "cell_type": "code",
   "execution_count": 9,
   "id": "9541d30d-5d90-4c74-b5c5-82935a103193",
   "metadata": {},
   "outputs": [],
   "source": [
    "# filtración de datos atipicos \n",
    "\n",
    "Dataset=Dataset[(Dataset['cp (chestpain)']<nivel_maximo)&(Dataset['cp (chestpain)']>nivel_minímo)]"
   ]
  },
  {
   "cell_type": "code",
   "execution_count": 10,
   "id": "5e73b1d2-968b-4838-acc7-c7e57ac4b694",
   "metadata": {},
   "outputs": [
    {
     "name": "stdout",
     "output_type": "stream",
     "text": [
      "El total de datos atipícos es0\n"
     ]
    }
   ],
   "source": [
    "# Validación de datos filtrados\n",
    "\n",
    "Total_atípicos=((Dataset['cp (chestpain)']<nivel_minímo)|(Dataset['cp (chestpain)']>nivel_maximo)).sum()\n",
    "print(\"El total de datos atipícos es{}\".format(Total_atípicos))"
   ]
  },
  {
   "cell_type": "code",
   "execution_count": 11,
   "id": "368aa37c-2ae9-44bf-97c6-cefbbe7c71c4",
   "metadata": {},
   "outputs": [
    {
     "name": "stdout",
     "output_type": "stream",
     "text": [
      "el total de datos Atípicos es 1\n"
     ]
    }
   ],
   "source": [
    "#conteo de datos atípicos presion arterial donde sea 60 muy_bajo 120_normal y 180_grave\n",
    "\n",
    "nivel_minímo=60\n",
    "nivel_maximo=180\n",
    "Total_Atípicos=((Dataset['trestbps (arterial.p)']<nivel_minímo)|(Dataset['trestbps (arterial.p)']>nivel_maximo)).sum()\n",
    "print(\"el total de datos Atípicos es {}\".format(Total_Atípicos))"
   ]
  },
  {
   "cell_type": "code",
   "execution_count": 12,
   "id": "56acf18b-9edb-496d-a05e-3fe0e7135d1b",
   "metadata": {},
   "outputs": [],
   "source": [
    "# filtración de datos atipicos \n",
    "\n",
    "Dataset=Dataset[(Dataset['trestbps (arterial.p)']<nivel_maximo)&(Dataset['trestbps (arterial.p)']>nivel_minímo)]"
   ]
  },
  {
   "cell_type": "code",
   "execution_count": 13,
   "id": "2d44fc96-71f4-4a32-8c9a-0459ab5eab6d",
   "metadata": {},
   "outputs": [
    {
     "name": "stdout",
     "output_type": "stream",
     "text": [
      "El total de datos atipícos es0\n"
     ]
    }
   ],
   "source": [
    "# Validación de datos filtrados\n",
    "\n",
    "Total_atípicos=((Dataset['trestbps (arterial.p)']<nivel_minímo)|(Dataset['trestbps (arterial.p)']>nivel_maximo)).sum()\n",
    "print(\"El total de datos atipícos es{}\".format(Total_atípicos))"
   ]
  },
  {
   "cell_type": "code",
   "execution_count": null,
   "id": "041cb3ef-7895-4499-a202-4202cf511236",
   "metadata": {},
   "outputs": [],
   "source": [
    "#conteo de datos atípicos Cholesterol 40_o_menos_grave mayor_de_60_sano 160_peligroso\n",
    "\n",
    "nivel_minímo=40\n",
    "nivel_maximo=160\n",
    "Total_Atípicos=((Dataset['cholesterol']<nivel_minímo)|(Dataset['cholesterol']>nivel_maximo)).sum()\n",
    "print(\"el total de datos Atípicos es {}\".format(Total_Atípicos))"
   ]
  },
  {
   "cell_type": "code",
   "execution_count": 14,
   "id": "fdbc65f9-aa2c-415b-b150-1c75a6447162",
   "metadata": {},
   "outputs": [],
   "source": [
    "# filtración de datos atipicos \n",
    "\n",
    "Dataset=Dataset[(Dataset['cholesterol']<nivel_maximo)&(Dataset['cholesterol']>nivel_minímo)]"
   ]
  },
  {
   "cell_type": "code",
   "execution_count": 16,
   "id": "926f82fa-2b1f-4cde-91d2-fbdf60c62b2e",
   "metadata": {},
   "outputs": [
    {
     "name": "stdout",
     "output_type": "stream",
     "text": [
      "El total de datos atipícos es0\n"
     ]
    }
   ],
   "source": [
    "# Validación de datos filtrados\n",
    "\n",
    "Total_atípicos=((Dataset['cholesterol']<nivel_minímo)|(Dataset['cholesterol']>nivel_maximo)).sum()\n",
    "print(\"El total de datos atipícos es{}\".format(Total_atípicos))"
   ]
  },
  {
   "cell_type": "code",
   "execution_count": 23,
   "id": "caf6402c-baf4-46e7-b4e2-8e0e522746ea",
   "metadata": {},
   "outputs": [
    {
     "name": "stdout",
     "output_type": "stream",
     "text": [
      "el total de datos Atípicos es 0\n"
     ]
    }
   ],
   "source": [
    "#conteo de datos atípicos fbs donde 1 el_nivel_mayor_a_120ml/dl y 0_menor_a_120ml/dl\n",
    "\n",
    "nivel_minímo=0\n",
    "nivel_maximo=1\n",
    "Total_Atípicos=((Dataset['fbs']<nivel_minímo)|(Dataset['fbs']>nivel_maximo)).sum()\n",
    "print(\"el total de datos Atípicos es {}\".format(Total_Atípicos))"
   ]
  },
  {
   "cell_type": "code",
   "execution_count": 21,
   "id": "90bb2f83-406d-4395-aa48-9a9de60e58ea",
   "metadata": {},
   "outputs": [],
   "source": [
    "# filtración de datos atipicos \n",
    "\n",
    "Dataset=Dataset[(Dataset['fbs']<nivel_maximo)&(Dataset['fbs']>nivel_minímo)]"
   ]
  },
  {
   "cell_type": "code",
   "execution_count": 19,
   "id": "55e1d95a-a1c1-4fac-a8ff-5ff386bfa3dd",
   "metadata": {},
   "outputs": [
    {
     "name": "stdout",
     "output_type": "stream",
     "text": [
      "El total de datos atipícos es0\n"
     ]
    }
   ],
   "source": [
    "# Validación de datos filtrados\n",
    "\n",
    "Total_atípicos=((Dataset['fbs']<nivel_minímo)|(Dataset['fbs']>nivel_maximo)).sum()\n",
    "print(\"El total de datos atipícos es{}\".format(Total_atípicos))"
   ]
  },
  {
   "cell_type": "code",
   "execution_count": 24,
   "id": "440f32cf-1576-4ba4-958e-72614646ec27",
   "metadata": {},
   "outputs": [
    {
     "name": "stdout",
     "output_type": "stream",
     "text": [
      "el total de datos Atípicos es 0\n"
     ]
    }
   ],
   "source": [
    "#conteo de datos atípicos 0_normal 1_anormalidad 2_hipertrofia\n",
    "\n",
    "nivel_minímo=0\n",
    "nivel_maximo=2\n",
    "Total_Atípicos=((Dataset['restecg']<nivel_minímo)|(Dataset['restecg']>nivel_maximo)).sum()\n",
    "print(\"el total de datos Atípicos es {}\".format(Total_Atípicos))"
   ]
  },
  {
   "cell_type": "code",
   "execution_count": 25,
   "id": "d8adcdbf-c406-48ca-aaba-9feb9a92d9c9",
   "metadata": {},
   "outputs": [
    {
     "name": "stdout",
     "output_type": "stream",
     "text": [
      "el total de datos Atípicos es 0\n"
     ]
    }
   ],
   "source": [
    "#conteo de datos atípicos frecuencia cardiaca maxima 60_bradicardia  más_de_100_taquicardía\n",
    "\n",
    "nivel_minímo=60\n",
    "nivel_maximo=190\n",
    "Total_Atípicos=((Dataset['maximum.rate']<nivel_minímo)|(Dataset['maximum.rate']>nivel_maximo)).sum()\n",
    "print(\"el total de datos Atípicos es {}\".format(Total_Atípicos))"
   ]
  },
  {
   "cell_type": "code",
   "execution_count": 26,
   "id": "81b0b3f6-a6a0-4b79-8d9d-a6f3438790ee",
   "metadata": {},
   "outputs": [
    {
     "name": "stdout",
     "output_type": "stream",
     "text": [
      "el total de datos Atípicos es 0\n"
     ]
    }
   ],
   "source": [
    "#conteo de datos atípicos angina_inducida_x_ejercici_fisico_0_SI_2_NO\n",
    "\n",
    "nivel_minímo=0\n",
    "nivel_maximo=1\n",
    "Total_Atípicos=((Dataset['exang']<nivel_minímo)|(Dataset['exang']>nivel_maximo)).sum()\n",
    "print(\"el total de datos Atípicos es {}\".format(Total_Atípicos))"
   ]
  },
  {
   "cell_type": "code",
   "execution_count": 27,
   "id": "7430b8c5-f9f8-4713-b787-02fbc6507f36",
   "metadata": {},
   "outputs": [
    {
     "name": "stdout",
     "output_type": "stream",
     "text": [
      "el total de datos Atípicos es 0\n"
     ]
    }
   ],
   "source": [
    "#conteo de datos atípicos 1_pnte_arriba 2_pnte_plana 3_pnte_abajo(problemas_cardiacos)\n",
    "\n",
    "nivel_minímo=1\n",
    "nivel_maximo=3\n",
    "Total_Atípicos=((Dataset['slope']<nivel_minímo)|(Dataset['slope']>nivel_maximo)).sum()\n",
    "print(\"el total de datos Atípicos es {}\".format(Total_Atípicos))"
   ]
  },
  {
   "cell_type": "code",
   "execution_count": 28,
   "id": "b6556e3c-ae9c-45c0-a617-9f7dec836597",
   "metadata": {},
   "outputs": [
    {
     "name": "stdout",
     "output_type": "stream",
     "text": [
      "el total de datos Atípicos es 0\n"
     ]
    }
   ],
   "source": [
    "#conteo de datos atípicos 1_leve 2_moderado 3_severo\n",
    "\n",
    "nivel_minímo=1\n",
    "nivel_maximo=3\n",
    "Total_Atípicos=((Dataset['ca']<nivel_minímo)|(Dataset['ca']>nivel_maximo)).sum()\n",
    "print(\"el total de datos Atípicos es {}\".format(Total_Atípicos))\n"
   ]
  },
  {
   "cell_type": "code",
   "execution_count": 31,
   "id": "d4bbb148-f328-4f45-9992-7687c5b0f5b1",
   "metadata": {},
   "outputs": [
    {
     "name": "stdout",
     "output_type": "stream",
     "text": [
      "<class 'pandas.core.frame.DataFrame'>\n",
      "Index: 0 entries\n",
      "Data columns (total 14 columns):\n",
      " #   Column                 Non-Null Count  Dtype  \n",
      "---  ------                 --------------  -----  \n",
      " 0   age                    0 non-null      int64  \n",
      " 1   sex                    0 non-null      int64  \n",
      " 2   cp (chestpain)         0 non-null      int64  \n",
      " 3   trestbps (arterial.p)  0 non-null      int64  \n",
      " 4   cholesterol            0 non-null      int64  \n",
      " 5   fbs                    0 non-null      int64  \n",
      " 6   restecg                0 non-null      int64  \n",
      " 7   maximum.rate           0 non-null      int64  \n",
      " 8   exang                  0 non-null      int64  \n",
      " 9   oldpeak                0 non-null      float64\n",
      " 10  slope                  0 non-null      int64  \n",
      " 11  ca                     0 non-null      int64  \n",
      " 12  thal                   0 non-null      int64  \n",
      " 13  condition              0 non-null      int64  \n",
      "dtypes: float64(1), int64(13)\n",
      "memory usage: 0.0 bytes\n"
     ]
    }
   ],
   "source": [
    "#Revisión del tipo de datos y datos faltantes\n",
    "\n",
    "Dataset.info()"
   ]
  },
  {
   "cell_type": "code",
   "execution_count": 34,
   "id": "d39a805f-2c42-483c-b6b1-3991417cb61f",
   "metadata": {},
   "outputs": [],
   "source": [
    "#Identificación de correlación entre datos\n",
    "\n",
    "correlation_matrix = Dataset.corr()"
   ]
  },
  {
   "cell_type": "code",
   "execution_count": 35,
   "id": "c1d171a2-b136-4840-a506-2ae48ef904b7",
   "metadata": {},
   "outputs": [
    {
     "name": "stdout",
     "output_type": "stream",
     "text": [
      "                       age  sex  cp (chestpain)  trestbps (arterial.p)  \\\n",
      "age                    NaN  NaN             NaN                    NaN   \n",
      "sex                    NaN  NaN             NaN                    NaN   \n",
      "cp (chestpain)         NaN  NaN             NaN                    NaN   \n",
      "trestbps (arterial.p)  NaN  NaN             NaN                    NaN   \n",
      "cholesterol            NaN  NaN             NaN                    NaN   \n",
      "fbs                    NaN  NaN             NaN                    NaN   \n",
      "restecg                NaN  NaN             NaN                    NaN   \n",
      "maximum.rate           NaN  NaN             NaN                    NaN   \n",
      "exang                  NaN  NaN             NaN                    NaN   \n",
      "oldpeak                NaN  NaN             NaN                    NaN   \n",
      "slope                  NaN  NaN             NaN                    NaN   \n",
      "ca                     NaN  NaN             NaN                    NaN   \n",
      "thal                   NaN  NaN             NaN                    NaN   \n",
      "condition              NaN  NaN             NaN                    NaN   \n",
      "\n",
      "                       cholesterol  fbs  restecg  maximum.rate  exang  \\\n",
      "age                            NaN  NaN      NaN           NaN    NaN   \n",
      "sex                            NaN  NaN      NaN           NaN    NaN   \n",
      "cp (chestpain)                 NaN  NaN      NaN           NaN    NaN   \n",
      "trestbps (arterial.p)          NaN  NaN      NaN           NaN    NaN   \n",
      "cholesterol                    NaN  NaN      NaN           NaN    NaN   \n",
      "fbs                            NaN  NaN      NaN           NaN    NaN   \n",
      "restecg                        NaN  NaN      NaN           NaN    NaN   \n",
      "maximum.rate                   NaN  NaN      NaN           NaN    NaN   \n",
      "exang                          NaN  NaN      NaN           NaN    NaN   \n",
      "oldpeak                        NaN  NaN      NaN           NaN    NaN   \n",
      "slope                          NaN  NaN      NaN           NaN    NaN   \n",
      "ca                             NaN  NaN      NaN           NaN    NaN   \n",
      "thal                           NaN  NaN      NaN           NaN    NaN   \n",
      "condition                      NaN  NaN      NaN           NaN    NaN   \n",
      "\n",
      "                       oldpeak  slope  ca  thal  condition  \n",
      "age                        NaN    NaN NaN   NaN        NaN  \n",
      "sex                        NaN    NaN NaN   NaN        NaN  \n",
      "cp (chestpain)             NaN    NaN NaN   NaN        NaN  \n",
      "trestbps (arterial.p)      NaN    NaN NaN   NaN        NaN  \n",
      "cholesterol                NaN    NaN NaN   NaN        NaN  \n",
      "fbs                        NaN    NaN NaN   NaN        NaN  \n",
      "restecg                    NaN    NaN NaN   NaN        NaN  \n",
      "maximum.rate               NaN    NaN NaN   NaN        NaN  \n",
      "exang                      NaN    NaN NaN   NaN        NaN  \n",
      "oldpeak                    NaN    NaN NaN   NaN        NaN  \n",
      "slope                      NaN    NaN NaN   NaN        NaN  \n",
      "ca                         NaN    NaN NaN   NaN        NaN  \n",
      "thal                       NaN    NaN NaN   NaN        NaN  \n",
      "condition                  NaN    NaN NaN   NaN        NaN  \n"
     ]
    }
   ],
   "source": [
    "#Muestra de correlación en matriz\n",
    "\n",
    "print(correlation_matrix)\n"
   ]
  },
  {
   "cell_type": "code",
   "execution_count": 50,
   "id": "0d82a308-8988-4062-a0fc-1eaccd5ea1e1",
   "metadata": {},
   "outputs": [
    {
     "name": "stdout",
     "output_type": "stream",
     "text": [
      "age                      0\n",
      "sex                      0\n",
      "cp (chestpain)           0\n",
      "trestbps (arterial.p)    0\n",
      "cholesterol              0\n",
      "fbs                      0\n",
      "restecg                  0\n",
      "maximum.rate             0\n",
      "exang                    0\n",
      "oldpeak                  0\n",
      "slope                    0\n",
      "ca                       0\n",
      "thal                     0\n",
      "condition                0\n",
      "dtype: int64\n"
     ]
    }
   ],
   "source": [
    "# Identificar valores faltantes\n",
    "print(Dataset.isnull().sum())\n"
   ]
  },
  {
   "cell_type": "code",
   "execution_count": 73,
   "id": "8004625d-3783-4195-b376-e50260e1b996",
   "metadata": {},
   "outputs": [
    {
     "data": {
      "image/png": "[encoded data removed]",
      "text/plain": [
       "<Figure size 640x480 with 1 Axes>"
      ]
     },
     "metadata": {},
     "output_type": "display_data"
    }
   ],
   "source": [
    "#correlación entre variables para identificar si es propenso\n",
    "sns.boxplot(x='condition', y='maximum.rate', data=Dataset)\n",
    "plt.title('Distribución de edad por presencia de enfermedad cardíaca')\n",
    "plt.show()"
   ]
  },
  {
   "cell_type": "code",
   "execution_count": 74,
   "id": "89d33ca3-11fd-4e6f-9f37-0878fc271b46",
   "metadata": {},
   "outputs": [
    {
     "name": "stdout",
     "output_type": "stream",
     "text": [
      "age                     NaN\n",
      "sex                     NaN\n",
      "cp (chestpain)          NaN\n",
      "trestbps (arterial.p)   NaN\n",
      "cholesterol             NaN\n",
      "fbs                     NaN\n",
      "restecg                 NaN\n",
      "maximum.rate            NaN\n",
      "exang                   NaN\n",
      "oldpeak                 NaN\n",
      "slope                   NaN\n",
      "ca                      NaN\n",
      "thal                    NaN\n",
      "condition               NaN\n",
      "Name: condition, dtype: float64\n"
     ]
    }
   ],
   "source": [
    "# Mostrar las correlaciones con la variable 'condition'\n",
    "correlation_with_condition = correlation_matrix['condition'].sort_values(ascending=False)\n",
    "print(correlation_with_condition)"
   ]
  },
  {
   "cell_type": "code",
   "execution_count": 81,
   "id": "052e33b1-190f-4b0f-8a92-9334bc6fa109",
   "metadata": {},
   "outputs": [
    {
     "name": "stdout",
     "output_type": "stream",
     "text": [
      "0\n",
      "0\n",
      "0\n",
      "0\n",
      "0\n",
      "0\n",
      "0\n",
      "0\n",
      "0\n",
      "0\n",
      "0\n",
      "0\n",
      "0\n"
     ]
    }
   ],
   "source": [
    "#identificación de datos vacios o nulos\n",
    "\n",
    "print(Dataset['age'].isnull().sum())\n",
    "print(Dataset['sex'].isnull().sum())\n",
    "print(Dataset['cp (chestpain)'].isnull().sum())\n",
    "print(Dataset['trestbps (arterial.p)'].isnull().sum())\n",
    "print(Dataset['cholesterol'].isnull().sum())\n",
    "print(Dataset['fbs'].isnull().sum())\n",
    "print(Dataset['restecg'].isnull().sum())\n",
    "print(Dataset['exang'].isnull().sum())\n",
    "print(Dataset['oldpeak'].isnull().sum())\n",
    "print(Dataset['slope'].isnull().sum())\n",
    "print(Dataset['ca'].isnull().sum())\n",
    "print(Dataset['thal'].isnull().sum())\n",
    "print(Dataset['condition'].isnull().sum())"
   ]
  },
  {
   "cell_type": "code",
   "execution_count": 82,
   "id": "9d6c8296-0bd5-46a3-97a4-d6e50298c69c",
   "metadata": {},
   "outputs": [
    {
     "name": "stdout",
     "output_type": "stream",
     "text": [
      "Series([], Name: count, dtype: int64)\n"
     ]
    }
   ],
   "source": [
    "# Contar la cantidad de 0 y 1 en la columna 'condition'\n",
    "print(Dataset['condition'].value_counts())"
   ]
  },
  {
   "cell_type": "code",
   "execution_count": 85,
   "id": "908dec1b-5335-4ffe-85ab-f3510b4ec276",
   "metadata": {},
   "outputs": [
    {
     "data": {
      "image/png": "[encoded data removed]",
      "text/plain": [
       "<Figure size 640x480 with 1 Axes>"
      ]
     },
     "metadata": {},
     "output_type": "display_data"
    }
   ],
   "source": [
    "# Graficar la distribución de la variable 'condition'\n",
    "\n",
    "sns.countplot(x='condition', data=Dataset)\n",
    "plt.title('Distribución de enfermedad cardíaca')\n",
    "plt.show()"
   ]
  },
  {
   "cell_type": "code",
   "execution_count": 84,
   "id": "a0ddd517-a6bc-4b4f-a31d-b353176b5af0",
   "metadata": {},
   "outputs": [
    {
     "name": "stdout",
     "output_type": "stream",
     "text": [
      "Index(['age', 'sex', 'cp (chestpain)', 'trestbps (arterial.p)', 'cholesterol',\n",
      "       'fbs', 'restecg', 'maximum.rate', 'exang', 'oldpeak', 'slope', 'ca',\n",
      "       'thal', 'condition'],\n",
      "      dtype='object')\n"
     ]
    }
   ],
   "source": [
    "print(Dataset.columns)"
   ]
  },
  {
   "cell_type": "code",
   "execution_count": 59,
   "id": "651c658e-a761-4e91-b0b9-c3282c43cf49",
   "metadata": {},
   "outputs": [
    {
     "name": "stdout",
     "output_type": "stream",
     "text": [
      "0     0\n",
      "1     0\n",
      "2     0\n",
      "3     1\n",
      "4     0\n",
      "     ..\n",
      "95    0\n",
      "96    1\n",
      "97    0\n",
      "98    1\n",
      "99    0\n",
      "Name: condition, Length: 100, dtype: int64\n",
      "0\n"
     ]
    }
   ],
   "source": [
    "print(Dataset['condition'].head(100))  \n",
    "print(Dataset['condition'].isnull().sum())"
   ]
  },
  {
   "cell_type": "code",
   "execution_count": 60,
   "id": "d83821e6-af51-47ee-959f-cca166153627",
   "metadata": {},
   "outputs": [
    {
     "data": {
      "text/plain": [
       "condition\n",
       "0    160\n",
       "1    137\n",
       "Name: count, dtype: int64"
      ]
     },
     "execution_count": 60,
     "metadata": {},
     "output_type": "execute_result"
    }
   ],
   "source": [
    "# total personas con diabetes no_0 si_1\n",
    "\n",
    "Dataset['condition'].value_counts()"
   ]
  },
  {
   "cell_type": "code",
   "execution_count": 88,
   "id": "8413472c-53c6-4b1b-a81f-6caefc34b343",
   "metadata": {},
   "outputs": [],
   "source": [
    "#División_dataset_train_y_test  (70%) (30%)\n",
    "tr = Dataset.drop('condition',axis=1)\n",
    "ts = Dataset ['condition']\n",
    "\n",
    "\n",
    "tr_train, tr_test, ts_train, ts_test = train_test_split(tr, ts, test_size=0.30, stratify=ts, random_state=0)\n",
    "\n",
    "\n",
    "\n"
   ]
  },
  {
   "cell_type": "code",
   "execution_count": 89,
   "id": "eb72f80f-9bd3-46e6-bc9a-057109e3e5ba",
   "metadata": {},
   "outputs": [
    {
     "name": "stdout",
     "output_type": "stream",
     "text": [
      "     age  sex  cp (chestpain)  trestbps (arterial.p)  cholesterol  fbs  \\\n",
      "238   56    0               3                    134          409    0   \n",
      "296   35    1               3                    126          282    0   \n",
      "140   44    1               2                    140          235    0   \n",
      "106   56    1               2                    130          256    1   \n",
      "181   63    0               3                    108          269    0   \n",
      "..   ...  ...             ...                    ...          ...  ...   \n",
      "67    41    0               1                    126          306    0   \n",
      "15    52    1               0                    118          186    0   \n",
      "21    38    1               0                    120          231    0   \n",
      "248   54    1               3                    122          286    0   \n",
      "135   46    0               2                    142          177    0   \n",
      "\n",
      "     restecg  maximum.rate  exang  oldpeak  slope  ca  thal  \n",
      "238        2           150      1      1.9      1   2     2  \n",
      "296        2           156      1      0.0      0   0     2  \n",
      "140        2           180      0      0.0      0   0     0  \n",
      "106        2           142      1      0.6      1   1     1  \n",
      "181        0           169      1      1.8      1   2     0  \n",
      "..       ...           ...    ...      ...    ...  ..   ...  \n",
      "67         0           163      0      0.0      0   0     0  \n",
      "15         2           190      0      0.0      1   0     1  \n",
      "21         0           182      1      3.8      1   0     2  \n",
      "248        2           116      1      3.2      1   2     0  \n",
      "135        2           160      1      1.4      2   0     0  \n",
      "\n",
      "[207 rows x 13 columns]\n"
     ]
    }
   ],
   "source": [
    "print (tr_train)"
   ]
  },
  {
   "cell_type": "code",
   "execution_count": 68,
   "id": "f5e068c4-e561-48fd-93cd-afa8d309c262",
   "metadata": {},
   "outputs": [
    {
     "name": "stdout",
     "output_type": "stream",
     "text": [
      "234    1\n",
      "82     0\n",
      "36     0\n",
      "237    1\n",
      "133    1\n",
      "      ..\n",
      "291    1\n",
      "195    1\n",
      "170    1\n",
      "135    0\n",
      "293    1\n",
      "Name: condition, Length: 222, dtype: int64\n"
     ]
    }
   ],
   "source": [
    "print (ts_train)"
   ]
  },
  {
   "cell_type": "code",
   "execution_count": 69,
   "id": "70d36a81-c9b2-4fe6-8060-6ddc387a523b",
   "metadata": {},
   "outputs": [],
   "source": [
    "# Contruir \n",
    "\n",
    "modelo_regresion = LogisticRegression(solver = \"liblinear\")\n",
    "modelo_regresion.fit(tr_train , ts_train)\n",
    "\n",
    "Prediccion = modelo_regresion.predict(tr_test)"
   ]
  },
  {
   "cell_type": "code",
   "execution_count": 90,
   "id": "09fc48c2-9aef-4429-b5ac-ca4076e9a9fe",
   "metadata": {},
   "outputs": [
    {
     "name": "stdout",
     "output_type": "stream",
     "text": [
      "     age  sex  cp (chestpain)  trestbps (arterial.p)  cholesterol  fbs  \\\n",
      "255   52    1               3                    128          255    0   \n",
      "219   58    0               3                    170          225    1   \n",
      "7     61    1               0                    134          234    0   \n",
      "43    54    1               1                    108          309    0   \n",
      "54    46    1               1                    101          197    1   \n",
      "..   ...  ...             ...                    ...          ...  ...   \n",
      "5     64    1               0                    170          227    0   \n",
      "89    63    0               2                    135          252    0   \n",
      "267   48    1               3                    124          274    0   \n",
      "157   70    1               3                    145          174    0   \n",
      "208   59    1               3                    110          239    0   \n",
      "\n",
      "     restecg  maximum.rate  exang  oldpeak  slope  ca  thal  \n",
      "255        0           161      1      0.0      0   1     2  \n",
      "219        2           146      1      2.8      1   2     1  \n",
      "7          0           145      0      2.6      1   2     0  \n",
      "43         0           156      0      0.0      0   0     2  \n",
      "54         0           156      0      0.0      0   0     2  \n",
      "..       ...           ...    ...      ...    ...  ..   ...  \n",
      "5          2           155      0      0.6      1   0     2  \n",
      "89         2           172      0      0.0      0   0     0  \n",
      "267        2           166      0      0.5      1   0     2  \n",
      "157        0           125      1      2.6      2   0     2  \n",
      "208        2           142      1      1.2      1   1     2  \n",
      "\n",
      "[90 rows x 13 columns]\n"
     ]
    }
   ],
   "source": [
    "print (tr_test)"
   ]
  },
  {
   "cell_type": "code",
   "execution_count": 71,
   "id": "fd87bcf8-a8f8-4da9-b112-91825cc226f5",
   "metadata": {},
   "outputs": [
    {
     "name": "stdout",
     "output_type": "stream",
     "text": [
      "185    1\n",
      "157    1\n",
      "110    0\n",
      "39     0\n",
      "198    1\n",
      "      ..\n",
      "278    0\n",
      "163    1\n",
      "137    0\n",
      "33     1\n",
      "246    1\n",
      "Name: condition, Length: 75, dtype: int64\n"
     ]
    }
   ],
   "source": [
    "print (ts_test)"
   ]
  },
  {
   "cell_type": "code",
   "execution_count": 50,
   "id": "539d2af8-5db1-43f0-84b3-59bd65c652a0",
   "metadata": {},
   "outputs": [
    {
     "name": "stdout",
     "output_type": "stream",
     "text": [
      "[1 1 0 0 0 1 0 1 0 1 1 1 1 0 1 1 0 1 0 1 0 0 0 1 1 0 1 0 1 0 0 0 1 0 0 0 0\n",
      " 1 0 0 1 0 0 0 0 0 1 0 0 1 0 0 0 0 0 1 1 1 0 1 0 1 0 0 0 0 1 0 0 0 0 1 1 0\n",
      " 0 1 1 0 1 1 1 1 0 0 1 0 0 1 1 1]\n"
     ]
    }
   ],
   "source": [
    "print (Prediccion)"
   ]
  },
  {
   "cell_type": "code",
   "execution_count": 72,
   "id": "97c72bd0-aa68-414b-88b2-14e93fd75c4a",
   "metadata": {},
   "outputs": [
    {
     "name": "stdout",
     "output_type": "stream",
     "text": [
      "              precision    recall  f1-score   support\n",
      "\n",
      "           0       0.88      0.90      0.89        40\n",
      "           1       0.88      0.86      0.87        35\n",
      "\n",
      "    accuracy                           0.88        75\n",
      "   macro avg       0.88      0.88      0.88        75\n",
      "weighted avg       0.88      0.88      0.88        75\n",
      "\n"
     ]
    }
   ],
   "source": [
    "print(classification_report(ts_test,Prediccion))"
   ]
  },
  {
   "cell_type": "code",
   "execution_count": 73,
   "id": "7176f5f6-fbaa-4c24-8b3b-36f6ce1f8818",
   "metadata": {},
   "outputs": [
    {
     "data": {
      "text/plain": [
       "<sklearn.metrics._plot.confusion_matrix.ConfusionMatrixDisplay at 0x1b06c62ecf0>"
      ]
     },
     "execution_count": 73,
     "metadata": {},
     "output_type": "execute_result"
    },
    {
     "data": {
      "image/png": "[encoded data removed]",
      "text/plain": [
       "<Figure size 640x480 with 2 Axes>"
      ]
     },
     "metadata": {},
     "output_type": "display_data"
    }
   ],
   "source": [
    "cm=confusion_matrix(ts_test,Prediccion)\n",
    "disp=metrics.ConfusionMatrixDisplay(confusion_matrix=cm)\n",
    "disp.plot()\n"
   ]
  },
  {
   "cell_type": "code",
   "execution_count": null,
   "id": "1c36e056-b3a6-45b7-aeda-5566ca8ad0b6",
   "metadata": {},
   "outputs": [],
   "source": [
    "\n"
   ]
  },
  {
   "cell_type": "code",
   "execution_count": 87,
   "id": "97605bd9-8e80-4820-8e99-079ed668f64d",
   "metadata": {},
   "outputs": [
    {
     "data": {
      "image/png": "[encoded data removed]",
      "text/plain": [
       "<Figure size 640x480 with 1 Axes>"
      ]
     },
     "metadata": {},
     "output_type": "display_data"
    }
   ],
   "source": [
    "from sklearn.metrics import RocCurveDisplay\n",
    "RocCurveDisplay.from_predictions(ts_test, Prediccion)\n",
    "plt.show()"
   ]
  },
  {
   "cell_type": "code",
   "execution_count": 16,
   "id": "aa06d11b-2d23-4bb0-ac72-6e1655bced37",
   "metadata": {},
   "outputs": [
    {
     "data": {
      "text/plain": [
       "<Axes: title={'center': 'Correlación entre la edad y la condicion'}, xlabel='age', ylabel='condition'>"
      ]
     },
     "execution_count": 16,
     "metadata": {},
     "output_type": "execute_result"
    },
    {
     "data": {
      "image/png": "[encoded data removed]",
      "text/plain": [
       "<Figure size 700x500 with 1 Axes>"
      ]
     },
     "metadata": {},
     "output_type": "display_data"
    }
   ],
   "source": [
    "fig=plt. figure(figsize=(7,5))\n",
    "plt.title('Correlación entre la edad y la condicion')\n",
    "sns.regplot(x='age', y= 'condition', data=Dataset)"
   ]
  },
  {
   "cell_type": "code",
   "execution_count": 19,
   "id": "bef38b19-9ccd-4336-8c33-c986f44c1897",
   "metadata": {},
   "outputs": [
    {
     "data": {
      "text/plain": [
       "<Axes: title={'center': 'Correlación entre la presion arterial y la condicion'}, xlabel='trestbps (arterial.p)', ylabel='condition'>"
      ]
     },
     "execution_count": 19,
     "metadata": {},
     "output_type": "execute_result"
    },
    {
     "data": {
      "image/png": "[encoded data removed]",
      "text/plain": [
       "<Figure size 700x500 with 1 Axes>"
      ]
     },
     "metadata": {},
     "output_type": "display_data"
    }
   ],
   "source": [
    "fig=plt. figure(figsize=(7,5))\n",
    "plt.title('Correlación entre la presion arterial y la condicion')\n",
    "sns.regplot(x='trestbps (arterial.p)', y= 'condition', data=Dataset)"
   ]
  },
  {
   "cell_type": "code",
   "execution_count": 21,
   "id": "18c9cc8b-23d6-4b8d-90d6-33fd4d1a3a6e",
   "metadata": {},
   "outputs": [
    {
     "data": {
      "text/plain": [
       "<Axes: title={'center': 'Correlación entre el nivel de colesterol y la condicion'}, xlabel='cholesterol', ylabel='condition'>"
      ]
     },
     "execution_count": 21,
     "metadata": {},
     "output_type": "execute_result"
    },
    {
     "data": {
      "image/png": "[encoded data removed]",
      "text/plain": [
       "<Figure size 700x500 with 1 Axes>"
      ]
     },
     "metadata": {},
     "output_type": "display_data"
    }
   ],
   "source": [
    "fig=plt. figure(figsize=(7,5))\n",
    "plt.title('Correlación entre el nivel de colesterol y la condicion')\n",
    "sns.regplot(x='cholesterol', y= 'condition', data=Dataset)"
   ]
  },
  {
   "cell_type": "code",
   "execution_count": 22,
   "id": "86837823-0ea8-49d6-b9f9-2d32dbd187a6",
   "metadata": {},
   "outputs": [
    {
     "data": {
      "text/plain": [
       "<Axes: title={'center': 'Correlación entre el tipo de dolor  y la condicion'}, xlabel='cp (chestpain)', ylabel='condition'>"
      ]
     },
     "execution_count": 22,
     "metadata": {},
     "output_type": "execute_result"
    },
    {
     "data": {
      "image/png": "[encoded data removed]",
      "text/plain": [
       "<Figure size 700x500 with 1 Axes>"
      ]
     },
     "metadata": {},
     "output_type": "display_data"
    }
   ],
   "source": [
    "fig=plt. figure(figsize=(7,5))\n",
    "plt.title('Correlación entre el tipo de dolor  y la condicion')\n",
    "sns.regplot(x='cp (chestpain)', y= 'condition', data=Dataset)"
   ]
  },
  {
   "cell_type": "code",
   "execution_count": 25,
   "id": "00e53dbe-6fea-489f-a725-4a6284097275",
   "metadata": {},
   "outputs": [
    {
     "data": {
      "text/plain": [
       "<Axes: title={'center': 'Correlación entre el nivel de frecuencia cardíaca y la condicion'}, xlabel='maximum.rate', ylabel='condition'>"
      ]
     },
     "execution_count": 25,
     "metadata": {},
     "output_type": "execute_result"
    },
    {
     "data": {
      "image/png": "[encoded data removed]",
      "text/plain": [
       "<Figure size 700x500 with 1 Axes>"
      ]
     },
     "metadata": {},
     "output_type": "display_data"
    }
   ],
   "source": [
    "fig=plt. figure(figsize=(7,5))\n",
    "plt.title('Correlación entre el nivel de frecuencia cardíaca y la condicion')\n",
    "sns.regplot(x='maximum.rate', y= 'condition', data=Dataset)"
   ]
  },
  {
   "cell_type": "code",
   "execution_count": null,
   "id": "c52c1582-5e31-461b-b762-a064aa26a0eb",
   "metadata": {},
   "outputs": [],
   "source": []
  }
 ],
 "metadata": {
  "kernelspec": {
   "display_name": "Python 3 (ipykernel)",
   "language": "python",
   "name": "python3"
  },
  "language_info": {
   "codemirror_mode": {
    "name": "ipython",
    "version": 3
   },
   "file_extension": ".py",
   "mimetype": "text/x-python",
   "name": "python",
   "nbconvert_exporter": "python",
   "pygments_lexer": "ipython3",
   "version": "3.12.4"
  }
 },
 "nbformat": 4,
 "nbformat_minor": 5
}
